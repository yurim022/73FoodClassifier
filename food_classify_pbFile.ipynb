{
 "cells": [
  {
   "cell_type": "code",
   "execution_count": 1,
   "metadata": {},
   "outputs": [
    {
     "name": "stderr",
     "output_type": "stream",
     "text": [
      "Using TensorFlow backend.\n"
     ]
    }
   ],
   "source": [
    "from keras.callbacks import Callback,EarlyStopping, ModelCheckpoint\n",
    "from keras.backend import clear_session\n",
    "from keras.models import Model, load_model\n",
    "from keras.layers import Dense, Input, Flatten\n",
    "from keras.applications import ResNet50, MobileNet, Xception, DenseNet121\n",
    "from keras import regularizers\n",
    "import os\n",
    "import cv2\n",
    "import numpy as np\n",
    "import pandas as pd\n",
    "\n",
    "from collections import Counter\n",
    "\n",
    "#from sklearn.metrics import f1_score\n",
    "from sklearn.model_selection import train_test_split"
   ]
  },
  {
   "cell_type": "code",
   "execution_count": 2,
   "metadata": {},
   "outputs": [],
   "source": [
    "\n",
    "def build_model(mode, model_name = None, model_path = None):\n",
    "\n",
    "    clear_session()\n",
    "\n",
    "    if mode == 'train':#모델을 만들고, fully connected layer 추가 및 compile 까지\n",
    "        img = Input(shape = (224, 224, 3))#네트워크에 주입할 입력텐서의 크기. 이 값을 지정하지 않으면 네트워크가 어떤 크기의 입력도 처리 가능\n",
    "\n",
    "        if model_name == 'DenseNet121':\n",
    "\n",
    "            model = DenseNet121(include_top=False,  #최상위 Fully_connected_layer 포함여부. 마지막 dense layer만 학습. pre-trained\n",
    "                                weights='imagenet', #모델을 초기화할 가중치 체크포인트\n",
    "                                input_tensor=img, \n",
    "                                input_shape=None, \n",
    "                                pooling='avg')\n",
    "\n",
    "        elif model_name == 'MobileNet':\n",
    "\n",
    "            model = MobileNet(include_top=False, \n",
    "                              weights='imagenet', \n",
    "                              input_tensor=img, \n",
    "                              input_shape=None, \n",
    "                              pooling='avg')\n",
    "\n",
    "        elif model_name == 'Xception':\n",
    "\n",
    "            model = Xception(include_top=False, \n",
    "                             weights='imagenet', \n",
    "                             input_tensor=img, \n",
    "                             input_shape=None, \n",
    "                             pooling='avg')\n",
    "\n",
    "        elif model_name == 'ResNet50':\n",
    "\n",
    "            model = ResNet50(include_top=False, \n",
    "                             weights='imagenet', \n",
    "                             input_tensor=img, \n",
    "                             input_shape=None, \n",
    "                             pooling='avg')\n",
    "\n",
    "        final_layer = model.layers[-1].output\n",
    "\n",
    "        dense_layer_1 = Dense(128, activation = 'relu',kernel_regularizer=regularizers.l2(0.001))(final_layer)\n",
    "        output_layer = Dense(74, activation = 'sigmoid',kernel_regularizer=regularizers.l2(0.001))(dense_layer_1)\n",
    "\n",
    "        model = Model(input = img, output = output_layer)\n",
    "        model.compile(optimizer = 'adam', loss = 'binary_crossentropy' , metrics = ['accuracy'])\n",
    "        #binary_cross entropy: 0,1\n",
    "        #categorital_cross entropy: 더 다양한 분류. 즉, 같은 것인데 binary~가 더 specific 한 case\n",
    "\n",
    "    elif mode == 'inference':\n",
    "        model = load_model(model_path)\n",
    "\n",
    "    return model\n"
   ]
  },
  {
   "cell_type": "code",
   "execution_count": 3,
   "metadata": {},
   "outputs": [],
   "source": [
    "def one_hot_encode(i,num_of_class):\n",
    "    result = np.zeros((num_of_class,))\n",
    "    result[i]=1\n",
    "    return result"
   ]
  },
  {
   "cell_type": "code",
   "execution_count": 4,
   "metadata": {},
   "outputs": [
    {
     "data": {
      "text/plain": [
       "\"\\na = one_hot_encode(2,5)\\nb = one_hot_encode(3,5)\\nprint(type(a))\\nx =[]\\nx.append(a)\\nx.append(b)#list type\\nprint(x)\\nx = np.asarray(x).astype('float32') #list를 asarray 해주어야 함\\nprint(x)\\n\""
      ]
     },
     "execution_count": 4,
     "metadata": {},
     "output_type": "execute_result"
    }
   ],
   "source": [
    "#one_hot_encode exercise\n",
    "\"\"\"\n",
    "a = one_hot_encode(2,5)\n",
    "b = one_hot_encode(3,5)\n",
    "print(type(a))\n",
    "x =[]\n",
    "x.append(a)\n",
    "x.append(b)#list type\n",
    "print(x)\n",
    "x = np.asarray(x).astype('float32') #list를 asarray 해주어야 함\n",
    "print(x)\n",
    "\"\"\""
   ]
  },
  {
   "cell_type": "code",
   "execution_count": 5,
   "metadata": {},
   "outputs": [],
   "source": [
    "\n",
    "def load_data(path): #path: image가 저장되어 있는 경로\n",
    "                     #D:\\\\food-classification\\\\image\\\\\n",
    "                     #train,test,val data 분리 및 resize\n",
    "    \n",
    "    #list 형태로 선언(후에 np.array로 타입변환)\n",
    "    trainX, testX, valX = [], [], []\n",
    "    trainY, testY, valY = [], [], []\n",
    "    \n",
    "    num_of_food = len(os.listdir(path))#image폴더의 개수. 즉, 분류class의 개수\n",
    "    for i in range(num_of_food):\n",
    "        \n",
    "        \"\"\"\n",
    "        item = df.loc[i][0] #type(df):pandas.core.frame.Dataframe ex) apple_pie\n",
    "        current_label = np.array((df.loc[i])[1:]) #numpy형식으로 바꿔줌 ex) [0,0,1,0,0,0,1,0,1,0]\n",
    "        \"\"\"\n",
    "        item = os.listdir(path)[i]\n",
    "        print(\"item: \",item)\n",
    "        current_label = one_hot_encode(i,num_of_food)\n",
    "        \n",
    "        image_path = os.path.join(path, item) #image폴더\n",
    "        print(\"image_path: \",image_path)\n",
    "        list_of_imgs = [os.path.join(image_path, file) for file in os.listdir(image_path)]\n",
    "        train_set = list_of_imgs[:30] #경로들이 저장되어있는 리스트\n",
    "        val_set = list_of_imgs[30:40]\n",
    "        test_set = list_of_imgs[40:]  #30,10 개 만큼 train,valid 나머지 test\n",
    "        \n",
    "        for file in train_set:\n",
    "            img = cv2.resize(cv2.cvtColor(cv2.imread(file, 1), cv2.COLOR_BGR2RGB), (224, 224))\n",
    "            #cv2.imread(file_path,flag) #flag=1 이면 color로 읽음\n",
    "            #cv2.cvtColor 컬러 변환 함수 BGR2RGB 원래 BlueGreenRed ->RedGreenBlue로 바꿔줌\n",
    "            #cv2.resize( , (224,224)) 사진크기 트레이닝 모델에 맞게 구성\n",
    "            trainX.append(img)\n",
    "            trainY.append(current_label)\n",
    "        \n",
    "        for file in val_set:\n",
    "            img = cv2.resize(cv2.cvtColor(cv2.imread(file, 1), cv2.COLOR_BGR2RGB), (224, 224))\n",
    "            valX.append(img)\n",
    "            valY.append(current_label)\n",
    "        \n",
    "        for file in test_set:\n",
    "            img = cv2.resize(cv2.cvtColor(cv2.imread(file, 1), cv2.COLOR_BGR2RGB), (224, 224))\n",
    "            testX.append(img)\n",
    "            testY.append(current_label)\n",
    "            \n",
    "    return (np.asarray(trainX).astype('float32'), np.asarray(trainY).astype('float32'), np.asarray(testX).astype('float32'), \n",
    "            np.asarray(testY).astype('float32'), np.asarray(valX).astype('float32'), np.asarray(valY).astype('float32'))#np.array(x)로 타입변환 및 float32로"
   ]
  },
  {
   "cell_type": "code",
   "execution_count": 6,
   "metadata": {},
   "outputs": [
    {
     "data": {
      "text/plain": [
       "'\\ndef train(model_name):\\n    \\n    #data set 받아오기 및 분류\\n    trainX, trainY, testX, testY, valX, valY = load_data(\"D:\\\\food-classification\\\\image\\\\\")\\n    print(\"data loaded\")\\n\\n\\n    #rgb에 대한 각각의 mean,std를 구한다\\n    MEAN = np.mean(trainX, axis = (0,1,2))\\n    STD = np.std(trainX, axis = (0,1,2))\\n\\n    for i in range(3):#rgb 값에 대해서\\n        #shape (num_of_samples, height,width,channel)\\n        trainX[:, :, :, i] = (trainX[:, :, :, i] - MEAN[i]) / STD[i]\\n        testX[:, :, :, i] = (testX[:, :, :, i] - MEAN[i]) / STD[i]\\n        valX[:, :, :, i] = (valX[:, :, :, i] - MEAN[i]) / STD[i]\\n        #test와 valid set또한 trainset 의 mean 과 std를 사용함 주의!!\\n\\n    model = build_model(\\'train\\', model_name) #모델생성 및 compile까지\\n\\n    model_result = model_name+\".h5\"\\n    callbacks_list=[\\n    EarlyStopping(monitor=\\'val_acc\\',patience=1),\\n    #1에포크보다 길게 val성능이 향상되지 않으면 훈련 중지\\n    ModelCheckpoint(filepath=model_result,monitor=\\'val_loss\\',save_best_only=True)]\\n    #성능이 좋아지지 않으면 가중치 업데이트x\\n \\n    ## Training model.\\n    history = model.fit(trainX, trainY, batch_size = 32, epochs = 25, validation_data = (valX, valY), \\n              callbacks = callbacks_list)\\n    \\n    return history\\n\\n    '"
      ]
     },
     "execution_count": 6,
     "metadata": {},
     "output_type": "execute_result"
    }
   ],
   "source": [
    "\"\"\"\n",
    "def train(model_name):\n",
    "    \n",
    "    #data set 받아오기 및 분류\n",
    "    trainX, trainY, testX, testY, valX, valY = load_data(\"D:\\\\food-classification\\\\image\\\\\")\n",
    "    print(\"data loaded\")\n",
    "\n",
    "\n",
    "    #rgb에 대한 각각의 mean,std를 구한다\n",
    "    MEAN = np.mean(trainX, axis = (0,1,2))\n",
    "    STD = np.std(trainX, axis = (0,1,2))\n",
    "\n",
    "    for i in range(3):#rgb 값에 대해서\n",
    "        #shape (num_of_samples, height,width,channel)\n",
    "        trainX[:, :, :, i] = (trainX[:, :, :, i] - MEAN[i]) / STD[i]\n",
    "        testX[:, :, :, i] = (testX[:, :, :, i] - MEAN[i]) / STD[i]\n",
    "        valX[:, :, :, i] = (valX[:, :, :, i] - MEAN[i]) / STD[i]\n",
    "        #test와 valid set또한 trainset 의 mean 과 std를 사용함 주의!!\n",
    "\n",
    "    model = build_model('train', model_name) #모델생성 및 compile까지\n",
    "\n",
    "    model_result = model_name+\".h5\"\n",
    "    callbacks_list=[\n",
    "    EarlyStopping(monitor='val_acc',patience=1),\n",
    "    #1에포크보다 길게 val성능이 향상되지 않으면 훈련 중지\n",
    "    ModelCheckpoint(filepath=model_result,monitor='val_loss',save_best_only=True)]\n",
    "    #성능이 좋아지지 않으면 가중치 업데이트x\n",
    " \n",
    "    ## Training model.\n",
    "    history = model.fit(trainX, trainY, batch_size = 32, epochs = 25, validation_data = (valX, valY), \n",
    "              callbacks = callbacks_list)\n",
    "    \n",
    "    return history\n",
    "\n",
    "    \"\"\"\n",
    "   "
   ]
  },
  {
   "cell_type": "code",
   "execution_count": 7,
   "metadata": {},
   "outputs": [],
   "source": [
    "\n",
    "def train(model_name,trainX,trainY,valX,valY):\n",
    "\n",
    "    model = build_model('train', model_name) #모델생성 및 compile까지\n",
    "\n",
    "    model_result = model_name+\"01\"+\".h5\"\n",
    "    callbacks_list=[\n",
    "    EarlyStopping(monitor='val_acc',patience=3),\n",
    "    #1에포크보다 길게 val성능이 향상되지 않으면 훈련 중지\n",
    "    ModelCheckpoint(filepath=model_result,monitor='val_loss',save_best_only=True)]\n",
    "    #성능이 좋아지지 않으면 가중치 업데이트x\n",
    " \n",
    "    ## Training model.\n",
    "    history = model.fit(trainX, trainY, batch_size = 32, epochs = 25, validation_data = (valX, valY), \n",
    "              callbacks = callbacks_list)\n",
    "    \n",
    "    return model, history\n",
    " "
   ]
  },
  {
   "cell_type": "code",
   "execution_count": 8,
   "metadata": {},
   "outputs": [],
   "source": [
    "import matplotlib.pyplot as plt"
   ]
  },
  {
   "cell_type": "code",
   "execution_count": 9,
   "metadata": {},
   "outputs": [],
   "source": [
    "def show_acc(history):\n",
    "    acc = history.history['acc']\n",
    "    val_acc = history.history['val_acc']\n",
    "\n",
    "    epochs = range(1, len(acc) + 1)\n",
    "    \n",
    "    # ‘bo’는 파란색 점을 의미합니다\n",
    "    plt.plot(epochs, acc, 'bo', label='Training acc')\n",
    "    # ‘b’는 파란색 실선을 의미합니다\n",
    "    plt.plot(epochs, val_acc, 'b', label='Validation acc')\n",
    "    plt.title('Training and validation acc')\n",
    "    plt.xlabel('Epochs')\n",
    "    plt.ylabel('Acc')\n",
    "    plt.legend()\n",
    "\n",
    "\n",
    "    plt.show()"
   ]
  },
  {
   "cell_type": "code",
   "execution_count": 10,
   "metadata": {},
   "outputs": [],
   "source": [
    "def show_loss(history):\n",
    "    loss = history.history['loss']\n",
    "    val_loss = history.history['val_loss']\n",
    "\n",
    "    epochs = range(1, len(loss) + 1)\n",
    "    \n",
    "    plt.plot(epochs, loss, 'bo', label='Training loss')\n",
    "    plt.plot(epochs, val_loss, 'b', label='Validation loss')\n",
    "    plt.title('Training and validation loss')\n",
    "    plt.xlabel('Epochs')\n",
    "    plt.ylabel('Loss')\n",
    "    plt.legend()\n",
    "\n",
    "    plt.show()"
   ]
  },
  {
   "cell_type": "code",
   "execution_count": 11,
   "metadata": {},
   "outputs": [
    {
     "name": "stdout",
     "output_type": "stream",
     "text": [
      "item:  aguchim\n",
      "image_path:  D:\\food-classification\\image\\aguchim\n",
      "item:  banmi\n",
      "image_path:  D:\\food-classification\\image\\banmi\n",
      "item:  banSeo\n",
      "image_path:  D:\\food-classification\\image\\banSeo\n",
      "item:  bibimbab\n",
      "image_path:  D:\\food-classification\\image\\bibimbab\n",
      "item:  boSam\n",
      "image_path:  D:\\food-classification\\image\\boSam\n",
      "item:  britto\n",
      "image_path:  D:\\food-classification\\image\\britto\n",
      "item:  bunzza\n",
      "image_path:  D:\\food-classification\\image\\bunzza\n",
      "item:  chicken\n",
      "image_path:  D:\\food-classification\\image\\chicken\n",
      "item:  ChickenLeg\n",
      "image_path:  D:\\food-classification\\image\\ChickenLeg\n",
      "item:  chobab\n",
      "image_path:  D:\\food-classification\\image\\chobab\n",
      "item:  coldnoodles\n",
      "image_path:  D:\\food-classification\\image\\coldnoodles\n",
      "item:  colnamulGukbab\n",
      "image_path:  D:\\food-classification\\image\\colnamulGukbab\n",
      "item:  DaeZiGalBi\n",
      "image_path:  D:\\food-classification\\image\\DaeZiGalBi\n",
      "item:  DaeZiKookBab\n",
      "image_path:  D:\\food-classification\\image\\DaeZiKookBab\n",
      "item:  DanZZangZZigae\n",
      "image_path:  D:\\food-classification\\image\\DanZZangZZigae\n",
      "item:  darkGalBi\n",
      "image_path:  D:\\food-classification\\image\\darkGalBi\n",
      "item:  Donzachi\n",
      "image_path:  D:\\food-classification\\image\\Donzachi\n",
      "item:  frenchFry\n",
      "image_path:  D:\\food-classification\\image\\frenchFry\n",
      "item:  gacheudong\n",
      "image_path:  D:\\food-classification\\image\\gacheudong\n",
      "item:  gamjaTang\n",
      "image_path:  D:\\food-classification\\image\\gamjaTang\n",
      "item:  ganjangGaejang\n",
      "image_path:  D:\\food-classification\\image\\ganjangGaejang\n",
      "item:  golbangeMuchim\n",
      "image_path:  D:\\food-classification\\image\\golbangeMuchim\n",
      "item:  gomTang\n",
      "image_path:  D:\\food-classification\\image\\gomTang\n",
      "item:  haemultang\n",
      "image_path:  D:\\food-classification\\image\\haemultang\n",
      "item:  hamburger\n",
      "image_path:  D:\\food-classification\\image\\hamburger\n",
      "item:  hoedeopbap\n",
      "image_path:  D:\\food-classification\\image\\hoedeopbap\n",
      "item:  huoguo\n",
      "image_path:  D:\\food-classification\\image\\huoguo\n",
      "item:  jaeyookdubbab\n",
      "image_path:  D:\\food-classification\\image\\jaeyookdubbab\n",
      "item:  Jajangmyeon\n",
      "image_path:  D:\\food-classification\\image\\Jajangmyeon\n",
      "item:  jambbong\n",
      "image_path:  D:\\food-classification\\image\\jambbong\n",
      "item:  jjukoomi\n",
      "image_path:  D:\\food-classification\\image\\jjukoomi\n",
      "item:  jokbal\n",
      "image_path:  D:\\food-classification\\image\\jokbal\n",
      "item:  kalkooksu\n",
      "image_path:  D:\\food-classification\\image\\kalkooksu\n",
      "item:  karae\n",
      "image_path:  D:\\food-classification\\image\\karae\n",
      "item:  kimBab\n",
      "image_path:  D:\\food-classification\\image\\kimBab\n",
      "item:  kimchizzigae\n",
      "image_path:  D:\\food-classification\\image\\kimchizzigae\n",
      "item:  kimchizzim\n",
      "image_path:  D:\\food-classification\\image\\kimchizzim\n",
      "item:  kkopChang\n",
      "image_path:  D:\\food-classification\\image\\kkopChang\n",
      "item:  kodongUGui\n",
      "image_path:  D:\\food-classification\\image\\kodongUGui\n",
      "item:  Kudong\n",
      "image_path:  D:\\food-classification\\image\\Kudong\n",
      "item:  maemillSoba\n",
      "image_path:  D:\\food-classification\\image\\maemillSoba\n",
      "item:  MaraTang\n",
      "image_path:  D:\\food-classification\\image\\MaraTang\n",
      "item:  nakZZidupBab\n",
      "image_path:  D:\\food-classification\\image\\nakZZidupBab\n",
      "item:  nashiGorang\n",
      "image_path:  D:\\food-classification\\image\\nashiGorang\n",
      "item:  omrice\n",
      "image_path:  D:\\food-classification\\image\\omrice\n",
      "item:  pasta\n",
      "image_path:  D:\\food-classification\\image\\pasta\n",
      "item:  pizza\n",
      "image_path:  D:\\food-classification\\image\\pizza\n",
      "item:  pudaezzigae\n",
      "image_path:  D:\\food-classification\\image\\pudaezzigae\n",
      "item:  Ramen\n",
      "image_path:  D:\\food-classification\\image\\Ramen\n",
      "item:  Ramyeon\n",
      "image_path:  D:\\food-classification\\image\\Ramyeon\n",
      "item:  Rizzoto\n",
      "image_path:  D:\\food-classification\\image\\Rizzoto\n",
      "item:  roastedChickenSoup\n",
      "image_path:  D:\\food-classification\\image\\roastedChickenSoup\n",
      "item:  salad\n",
      "image_path:  D:\\food-classification\\image\\salad\n",
      "item:  salkooksu\n",
      "image_path:  D:\\food-classification\\image\\salkooksu\n",
      "item:  samgaeTang\n",
      "image_path:  D:\\food-classification\\image\\samgaeTang\n",
      "item:  samguppsal\n",
      "image_path:  D:\\food-classification\\image\\samguppsal\n",
      "item:  sandwitch\n",
      "image_path:  D:\\food-classification\\image\\sandwitch\n",
      "item:  seafood pancake\n",
      "image_path:  D:\\food-classification\\image\\seafood pancake\n",
      "item:  Shabushabu\n",
      "image_path:  D:\\food-classification\\image\\Shabushabu\n",
      "item:  skiyakki\n",
      "image_path:  D:\\food-classification\\image\\skiyakki\n",
      "item:  soondaekookBab\n",
      "image_path:  D:\\food-classification\\image\\soondaekookBab\n",
      "item:  steak\n",
      "image_path:  D:\\food-classification\\image\\steak\n",
      "item:  sundupozzigae\n",
      "image_path:  D:\\food-classification\\image\\sundupozzigae\n",
      "item:  Suzaebi\n",
      "image_path:  D:\\food-classification\\image\\Suzaebi\n",
      "item:  tacco\n",
      "image_path:  D:\\food-classification\\image\\tacco\n",
      "item:  tangsuyook\n",
      "image_path:  D:\\food-classification\\image\\tangsuyook\n",
      "item:  Tteokbokki\n",
      "image_path:  D:\\food-classification\\image\\Tteokbokki\n",
      "item:  walnamsamm\n",
      "image_path:  D:\\food-classification\\image\\walnamsamm\n",
      "item:  woodong\n",
      "image_path:  D:\\food-classification\\image\\woodong\n",
      "item:  yangkkokchi\n",
      "image_path:  D:\\food-classification\\image\\yangkkokchi\n",
      "item:  yookgaejang\n",
      "image_path:  D:\\food-classification\\image\\yookgaejang\n",
      "item:  yookHa\n",
      "image_path:  D:\\food-classification\\image\\yookHa\n",
      "item:  yunUdupbab\n",
      "image_path:  D:\\food-classification\\image\\yunUdupbab\n",
      "item:  zanchiKooksu\n",
      "image_path:  D:\\food-classification\\image\\zanchiKooksu\n",
      "data loaded\n"
     ]
    },
    {
     "name": "stderr",
     "output_type": "stream",
     "text": [
      "WARNING: Logging before flag parsing goes to stderr.\n",
      "W0806 14:45:25.880859  8312 deprecation_wrapper.py:119] From C:\\Users\\yurim\\AppData\\Roaming\\Python\\Python37\\site-packages\\keras\\backend\\tensorflow_backend.py:95: The name tf.reset_default_graph is deprecated. Please use tf.compat.v1.reset_default_graph instead.\n",
      "\n",
      "W0806 14:45:25.881852  8312 deprecation_wrapper.py:119] From C:\\Users\\yurim\\AppData\\Roaming\\Python\\Python37\\site-packages\\keras\\backend\\tensorflow_backend.py:98: The name tf.placeholder_with_default is deprecated. Please use tf.compat.v1.placeholder_with_default instead.\n",
      "\n",
      "W0806 14:45:25.895868  8312 deprecation_wrapper.py:119] From C:\\Users\\yurim\\AppData\\Roaming\\Python\\Python37\\site-packages\\keras\\backend\\tensorflow_backend.py:102: The name tf.get_default_graph is deprecated. Please use tf.compat.v1.get_default_graph instead.\n",
      "\n",
      "W0806 14:45:25.896845  8312 deprecation_wrapper.py:119] From C:\\Users\\yurim\\AppData\\Roaming\\Python\\Python37\\site-packages\\keras\\backend\\tensorflow_backend.py:517: The name tf.placeholder is deprecated. Please use tf.compat.v1.placeholder instead.\n",
      "\n",
      "C:\\Users\\yurim\\AppData\\Roaming\\Python\\Python37\\site-packages\\keras_applications\\mobilenet.py:207: UserWarning: `input_shape` is undefined or non-square, or `rows` is not in [128, 160, 192, 224]. Weights for input shape (224, 224) will be loaded as the default.\n",
      "  warnings.warn('`input_shape` is undefined or non-square, '\n",
      "W0806 14:45:25.901397  8312 deprecation_wrapper.py:119] From C:\\Users\\yurim\\AppData\\Roaming\\Python\\Python37\\site-packages\\keras\\backend\\tensorflow_backend.py:4138: The name tf.random_uniform is deprecated. Please use tf.random.uniform instead.\n",
      "\n",
      "W0806 14:45:25.943150  8312 deprecation_wrapper.py:119] From C:\\Users\\yurim\\AppData\\Roaming\\Python\\Python37\\site-packages\\keras\\backend\\tensorflow_backend.py:1834: The name tf.nn.fused_batch_norm is deprecated. Please use tf.compat.v1.nn.fused_batch_norm instead.\n",
      "\n"
     ]
    },
    {
     "name": "stdout",
     "output_type": "stream",
     "text": [
      "normalization done\n"
     ]
    },
    {
     "name": "stderr",
     "output_type": "stream",
     "text": [
      "C:\\graduateproject\\anaconda\\lib\\site-packages\\ipykernel_launcher.py:45: UserWarning: Update your `Model` call to the Keras 2 API: `Model(inputs=Tensor(\"in..., outputs=Tensor(\"de...)`\n",
      "W0806 14:45:28.427748  8312 deprecation_wrapper.py:119] From C:\\Users\\yurim\\AppData\\Roaming\\Python\\Python37\\site-packages\\keras\\optimizers.py:790: The name tf.train.Optimizer is deprecated. Please use tf.compat.v1.train.Optimizer instead.\n",
      "\n",
      "W0806 14:45:28.448836  8312 deprecation.py:323] From C:\\Users\\yurim\\AppData\\Roaming\\Python\\Python37\\site-packages\\tensorflow\\python\\ops\\nn_impl.py:180: add_dispatch_support.<locals>.wrapper (from tensorflow.python.ops.array_ops) is deprecated and will be removed in a future version.\n",
      "Instructions for updating:\n",
      "Use tf.where in 2.0, which has the same broadcast rule as np.where\n"
     ]
    },
    {
     "name": "stdout",
     "output_type": "stream",
     "text": [
      "Train on 2220 samples, validate on 740 samples\n",
      "Epoch 1/25\n",
      "2220/2220 [==============================] - 968s 436ms/step - loss: 0.3541 - acc: 0.9696 - val_loss: 0.2430 - val_acc: 0.9866\n",
      "Epoch 2/25\n",
      "2220/2220 [==============================] - 972s 438ms/step - loss: 0.1677 - acc: 0.9883 - val_loss: 0.1522 - val_acc: 0.9866\n",
      "Epoch 3/25\n",
      "2220/2220 [==============================] - 970s 437ms/step - loss: 0.1035 - acc: 0.9909 - val_loss: 0.1119 - val_acc: 0.9873\n",
      "Epoch 4/25\n",
      "2220/2220 [==============================] - 967s 436ms/step - loss: 0.0722 - acc: 0.9940 - val_loss: 0.0939 - val_acc: 0.9873\n",
      "Epoch 5/25\n",
      "2220/2220 [==============================] - 974s 439ms/step - loss: 0.0556 - acc: 0.9966 - val_loss: 0.0832 - val_acc: 0.9876\n",
      "Epoch 6/25\n",
      "2220/2220 [==============================] - 967s 436ms/step - loss: 0.0460 - acc: 0.9985 - val_loss: 0.0746 - val_acc: 0.9879\n",
      "Epoch 7/25\n",
      "2220/2220 [==============================] - 989s 446ms/step - loss: 0.0404 - acc: 0.9991 - val_loss: 0.0742 - val_acc: 0.9874\n",
      "Epoch 8/25\n",
      "2220/2220 [==============================] - 1019s 459ms/step - loss: 0.0366 - acc: 0.9995 - val_loss: 0.0695 - val_acc: 0.9876\n",
      "Epoch 9/25\n",
      "2220/2220 [==============================] - 969s 437ms/step - loss: 0.0338 - acc: 0.9997 - val_loss: 0.0668 - val_acc: 0.9878\n"
     ]
    }
   ],
   "source": [
    "trainX, trainY, testX, testY, valX, valY = load_data(\"D:\\\\food-classification\\\\image\\\\\")\n",
    "print(\"data loaded\")\n",
    "\n",
    "#rgb에 대한 각각의 mean,std를 구한다\n",
    "MEAN = np.mean(trainX, axis = (0,1,2))\n",
    "STD = np.std(trainX, axis = (0,1,2))\n",
    "\n",
    "for i in range(3):#rgb 값에 대해서\n",
    "    #shape (num_of_samples, height,width,channel)\n",
    "    trainX[:, :, :, i] = (trainX[:, :, :, i] - MEAN[i]) / STD[i]\n",
    "    testX[:, :, :, i] = (testX[:, :, :, i] - MEAN[i]) / STD[i]\n",
    "    valX[:, :, :, i] = (valX[:, :, :, i] - MEAN[i]) / STD[i]\n",
    "#test와 valid set또한 trainset 의 mean 과 std를 사용함 주의!!\n",
    "print(\"normalization done\")\n",
    "\n",
    "model, history = train(\"MobileNet\",trainX,trainY,valX,valY)"
   ]
  },
  {
   "cell_type": "code",
   "execution_count": 12,
   "metadata": {
    "scrolled": true
   },
   "outputs": [
    {
     "name": "stdout",
     "output_type": "stream",
     "text": [
      "1347/1347 [==============================] - 153s 114ms/step\n",
      "[0.06580956857416394, 0.9880615312166363]\n"
     ]
    }
   ],
   "source": [
    "results = model.evaluate(testX,testY)\n",
    "print(results)"
   ]
  },
  {
   "cell_type": "code",
   "execution_count": 14,
   "metadata": {},
   "outputs": [
    {
     "data": {
      "image/png": "[encoded data removed]",
      "text/plain": [
       "<Figure size 432x288 with 1 Axes>"
      ]
     },
     "metadata": {
      "needs_background": "light"
     },
     "output_type": "display_data"
    },
    {
     "data": {
      "image/png": "[encoded data removed]",
      "text/plain": [
       "<Figure size 432x288 with 1 Axes>"
      ]
     },
     "metadata": {
      "needs_background": "light"
     },
     "output_type": "display_data"
    }
   ],
   "source": [
    "show_acc(history)\n",
    "show_loss(history)"
   ]
  },
  {
   "cell_type": "code",
   "execution_count": null,
   "metadata": {},
   "outputs": [],
   "source": [
    "#model = build_model('train', 'ResNet50')\n",
    "#model.summary()"
   ]
  },
  {
   "cell_type": "code",
   "execution_count": null,
   "metadata": {},
   "outputs": [],
   "source": []
  }
 ],
 "metadata": {
  "kernelspec": {
   "display_name": "Python 3",
   "language": "python",
   "name": "python3"
  },
  "language_info": {
   "codemirror_mode": {
    "name": "ipython",
    "version": 3
   },
   "file_extension": ".py",
   "mimetype": "text/x-python",
   "name": "python",
   "nbconvert_exporter": "python",
   "pygments_lexer": "ipython3",
   "version": "3.7.3"
  }
 },
 "nbformat": 4,
 "nbformat_minor": 2
}
